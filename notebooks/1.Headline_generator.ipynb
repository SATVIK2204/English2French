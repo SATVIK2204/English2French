{
 "cells": [
  {
   "cell_type": "code",
   "execution_count": 1,
   "metadata": {},
   "outputs": [],
   "source": [
    "import pandas as pd\r\n",
    "import string\r\n",
    "from pickle import dump,load\r\n",
    "import sys\r\n",
    "sys.path.append('../../')\r\n",
    "%load_ext autoreload\r\n"
   ]
  },
  {
   "cell_type": "code",
   "execution_count": 41,
   "metadata": {},
   "outputs": [],
   "source": [
    "df=pd.read_csv('../data/modified/data_to_work_on.csv')"
   ]
  },
  {
   "cell_type": "code",
   "execution_count": 42,
   "metadata": {},
   "outputs": [
    {
     "data": {
      "text/html": "<div>\n<style scoped>\n    .dataframe tbody tr th:only-of-type {\n        vertical-align: middle;\n    }\n\n    .dataframe tbody tr th {\n        vertical-align: top;\n    }\n\n    .dataframe thead th {\n        text-align: right;\n    }\n</style>\n<table border=\"1\" class=\"dataframe\">\n  <thead>\n    <tr style=\"text-align: right;\">\n      <th></th>\n      <th>Article</th>\n      <th>Headline</th>\n    </tr>\n  </thead>\n  <tbody>\n    <tr>\n      <th>0</th>\n      <td>WASHINGTON  —   Congressional Republicans have...</td>\n      <td>House Republicans Fret About Winning Their Hea...</td>\n    </tr>\n    <tr>\n      <th>1</th>\n      <td>After the bullet shells get counted, the blood...</td>\n      <td>Rift Between Officers and Residents as Killing...</td>\n    </tr>\n    <tr>\n      <th>2</th>\n      <td>When Walt Disney’s “Bambi” opened in 1942, cri...</td>\n      <td>Tyrus Wong, ‘Bambi’ Artist Thwarted by Racial ...</td>\n    </tr>\n    <tr>\n      <th>3</th>\n      <td>Death may be the great equalizer, but it isn’t...</td>\n      <td>Among Deaths in 2016, a Heavy Toll in Pop Music</td>\n    </tr>\n    <tr>\n      <th>4</th>\n      <td>SEOUL, South Korea  —   North Korea’s leader, ...</td>\n      <td>Kim Jong-un Says North Korea Is Preparing to T...</td>\n    </tr>\n    <tr>\n      <th>...</th>\n      <td>...</td>\n      <td>...</td>\n    </tr>\n    <tr>\n      <th>49995</th>\n      <td>As chairman and CEO of ExxonMobil, Rex Tillers...</td>\n      <td>Rex Tillerson Says Climate Change Is Real, but …</td>\n    </tr>\n    <tr>\n      <th>49996</th>\n      <td>I’ve spent nearly 20 years looking at intellig...</td>\n      <td>The Biggest Intelligence Questions Raised by t...</td>\n    </tr>\n    <tr>\n      <th>49997</th>\n      <td>Donald Trump will not be taking necessary st...</td>\n      <td>Trump Announces Plan That Does Little to Resol...</td>\n    </tr>\n    <tr>\n      <th>49998</th>\n      <td>Dozens of   colleges could be forced to close ...</td>\n      <td>Dozens of For-Profit Colleges Could Soon Close</td>\n    </tr>\n    <tr>\n      <th>49999</th>\n      <td>The force of gravity can be described using a ...</td>\n      <td>The Milky Way’s Stolen Stars</td>\n    </tr>\n  </tbody>\n</table>\n<p>50000 rows × 2 columns</p>\n</div>",
      "text/plain": "                                                 Article  \\\n0      WASHINGTON  —   Congressional Republicans have...   \n1      After the bullet shells get counted, the blood...   \n2      When Walt Disney’s “Bambi” opened in 1942, cri...   \n3      Death may be the great equalizer, but it isn’t...   \n4      SEOUL, South Korea  —   North Korea’s leader, ...   \n...                                                  ...   \n49995  As chairman and CEO of ExxonMobil, Rex Tillers...   \n49996  I’ve spent nearly 20 years looking at intellig...   \n49997    Donald Trump will not be taking necessary st...   \n49998  Dozens of   colleges could be forced to close ...   \n49999  The force of gravity can be described using a ...   \n\n                                                Headline  \n0      House Republicans Fret About Winning Their Hea...  \n1      Rift Between Officers and Residents as Killing...  \n2      Tyrus Wong, ‘Bambi’ Artist Thwarted by Racial ...  \n3        Among Deaths in 2016, a Heavy Toll in Pop Music  \n4      Kim Jong-un Says North Korea Is Preparing to T...  \n...                                                  ...  \n49995   Rex Tillerson Says Climate Change Is Real, but …  \n49996  The Biggest Intelligence Questions Raised by t...  \n49997  Trump Announces Plan That Does Little to Resol...  \n49998     Dozens of For-Profit Colleges Could Soon Close  \n49999                       The Milky Way’s Stolen Stars  \n\n[50000 rows x 2 columns]"
     },
     "execution_count": 42,
     "metadata": {},
     "output_type": "execute_result"
    }
   ],
   "source": [
    "df"
   ]
  },
  {
   "cell_type": "code",
   "execution_count": 4,
   "metadata": {},
   "outputs": [],
   "source": [
    "#dropping any null present in data\r\n",
    "df.dropna(inplace=True)"
   ]
  },
  {
   "cell_type": "code",
   "execution_count": 5,
   "metadata": {},
   "outputs": [],
   "source": [
    "#Converting columns to lists before cleaning\r\n",
    "article=df['Article'].to_list()\r\n",
    "headline=df['Headline'].to_list()"
   ]
  },
  {
   "cell_type": "code",
   "execution_count": 10,
   "metadata": {},
   "outputs": [],
   "source": [
    "%autoreload 2\r\n",
    "from headline_generator.src.preprocessing.preprocess import DfCleaner"
   ]
  },
  {
   "cell_type": "code",
   "execution_count": 11,
   "metadata": {},
   "outputs": [],
   "source": [
    "cleaner=DfCleaner()"
   ]
  },
  {
   "cell_type": "code",
   "execution_count": 10,
   "metadata": {},
   "outputs": [
    {
     "name": "stdout",
     "output_type": "stream",
     "text": [
      "10000 examples cleaned out of 49997\n",
      "20000 examples cleaned out of 49997\n",
      "30000 examples cleaned out of 49997\n",
      "40000 examples cleaned out of 49997\n",
      "Cleaning Done\n"
     ]
    }
   ],
   "source": [
    "cleaned_article=cleaner.clean(article,stem=False)\r\n"
   ]
  },
  {
   "cell_type": "code",
   "execution_count": 22,
   "metadata": {},
   "outputs": [
    {
     "name": "stdout",
     "output_type": "stream",
     "text": [
      "10000 examples cleaned out of 49997\n",
      "20000 examples cleaned out of 49997\n",
      "30000 examples cleaned out of 49997\n",
      "40000 examples cleaned out of 49997\n",
      "Cleaning Done\n"
     ]
    }
   ],
   "source": [
    "cleaned_headline=cleaner.clean(headline,stem=False)"
   ]
  },
  {
   "cell_type": "code",
   "execution_count": 30,
   "metadata": {},
   "outputs": [
    {
     "name": "stdout",
     "output_type": "stream",
     "text": [
      "1000 examples cleaned out of 49997\n",
      "2000 examples cleaned out of 49997\n",
      "3000 examples cleaned out of 49997\n",
      "4000 examples cleaned out of 49997\n",
      "5000 examples cleaned out of 49997\n",
      "6000 examples cleaned out of 49997\n",
      "7000 examples cleaned out of 49997\n",
      "8000 examples cleaned out of 49997\n",
      "9000 examples cleaned out of 49997\n",
      "10000 examples cleaned out of 49997\n",
      "11000 examples cleaned out of 49997\n",
      "12000 examples cleaned out of 49997\n",
      "13000 examples cleaned out of 49997\n",
      "14000 examples cleaned out of 49997\n",
      "15000 examples cleaned out of 49997\n",
      "16000 examples cleaned out of 49997\n",
      "17000 examples cleaned out of 49997\n",
      "18000 examples cleaned out of 49997\n",
      "19000 examples cleaned out of 49997\n",
      "20000 examples cleaned out of 49997\n",
      "21000 examples cleaned out of 49997\n",
      "22000 examples cleaned out of 49997\n",
      "23000 examples cleaned out of 49997\n",
      "24000 examples cleaned out of 49997\n",
      "25000 examples cleaned out of 49997\n",
      "26000 examples cleaned out of 49997\n",
      "27000 examples cleaned out of 49997\n",
      "28000 examples cleaned out of 49997\n",
      "29000 examples cleaned out of 49997\n",
      "30000 examples cleaned out of 49997\n",
      "31000 examples cleaned out of 49997\n",
      "32000 examples cleaned out of 49997\n",
      "33000 examples cleaned out of 49997\n",
      "34000 examples cleaned out of 49997\n",
      "35000 examples cleaned out of 49997\n",
      "36000 examples cleaned out of 49997\n",
      "37000 examples cleaned out of 49997\n",
      "38000 examples cleaned out of 49997\n",
      "39000 examples cleaned out of 49997\n",
      "40000 examples cleaned out of 49997\n",
      "41000 examples cleaned out of 49997\n",
      "42000 examples cleaned out of 49997\n",
      "43000 examples cleaned out of 49997\n",
      "44000 examples cleaned out of 49997\n",
      "45000 examples cleaned out of 49997\n",
      "46000 examples cleaned out of 49997\n",
      "47000 examples cleaned out of 49997\n",
      "48000 examples cleaned out of 49997\n",
      "49000 examples cleaned out of 49997\n",
      "Cleaning Done\n",
      "Wall time: 57min 49s\n"
     ]
    }
   ],
   "source": [
    "%%time\r\n",
    "cleaned_article =cleaner.remove_frequent_rare(cleaned_article,frequent=True,rare=True)\r\n",
    "cleaned_headline =cleaner.remove_frequent_rare(cleaned_headline,frequent=True,rare=True)"
   ]
  },
  {
   "cell_type": "code",
   "execution_count": null,
   "metadata": {},
   "outputs": [],
   "source": [
    "# Dumping the interm data\r\n",
    "dump(cleaned_article, open('../data/interim/cleaned_article.pkl', 'wb'))\r\n",
    "dump(cleaned_headline, open('../data/interim/cleaned_headline.pkl', 'wb'))"
   ]
  },
  {
   "cell_type": "code",
   "execution_count": 50,
   "metadata": {},
   "outputs": [
    {
     "data": {
      "text/plain": "158721"
     },
     "execution_count": 50,
     "metadata": {},
     "output_type": "execute_result"
    }
   ],
   "source": [
    "cleaned_article=load(open('../data/interim/cleaned_article.pkl', 'rb'))\r\n",
    "cleaned_headline=load(open('../data/interim/cleaned_headline.pkl', 'rb'))"
   ]
  },
  {
   "cell_type": "code",
   "execution_count": null,
   "metadata": {},
   "outputs": [],
   "source": []
  }
 ],
 "metadata": {
  "interpreter": {
   "hash": "7f3de5096ca57544369bb14db0d707c452af519be01e653fe2c6b8aa83f4de32"
  },
  "kernelspec": {
   "display_name": "Python 3.8.8 64-bit",
   "name": "python3"
  },
  "language_info": {
   "codemirror_mode": {
    "name": "ipython",
    "version": 3
   },
   "file_extension": ".py",
   "mimetype": "text/x-python",
   "name": "python",
   "nbconvert_exporter": "python",
   "pygments_lexer": "ipython3",
   "version": "3.8.8"
  },
  "metadata": {
   "interpreter": {
    "hash": "7f3de5096ca57544369bb14db0d707c452af519be01e653fe2c6b8aa83f4de32"
   }
  },
  "orig_nbformat": 2
 },
 "nbformat": 4,
 "nbformat_minor": 2
}